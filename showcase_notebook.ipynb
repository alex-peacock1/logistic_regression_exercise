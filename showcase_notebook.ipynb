{
 "cells": [
  {
   "cell_type": "markdown",
   "id": "27bc71ad-0fb4-4667-a8ca-89738ab182bc",
   "metadata": {},
   "source": [
    "# Logistic regression exercise\n",
    "\n",
    "This notebook can be used to the data analysis script.\n",
    "\n",
    "The `data_analysis.py` script, by default contains some junk code, which generates the output below."
   ]
  },
  {
   "cell_type": "code",
   "execution_count": 1,
   "id": "1a88a317-bd7a-4b08-bd8a-53f31f5f4b95",
   "metadata": {},
   "outputs": [
    {
     "data": {
      "text/html": [
       "<div>\n",
       "<style scoped>\n",
       "    .dataframe tbody tr th:only-of-type {\n",
       "        vertical-align: middle;\n",
       "    }\n",
       "\n",
       "    .dataframe tbody tr th {\n",
       "        vertical-align: top;\n",
       "    }\n",
       "\n",
       "    .dataframe thead th {\n",
       "        text-align: right;\n",
       "    }\n",
       "</style>\n",
       "<table border=\"1\" class=\"dataframe\">\n",
       "  <thead>\n",
       "    <tr style=\"text-align: right;\">\n",
       "      <th></th>\n",
       "      <th>A</th>\n",
       "      <th>B</th>\n",
       "    </tr>\n",
       "  </thead>\n",
       "  <tbody>\n",
       "    <tr>\n",
       "      <th>0</th>\n",
       "      <td>114.758796</td>\n",
       "      <td>10.790686</td>\n",
       "    </tr>\n",
       "    <tr>\n",
       "      <th>1</th>\n",
       "      <td>99.050259</td>\n",
       "      <td>9.548888</td>\n",
       "    </tr>\n",
       "    <tr>\n",
       "      <th>2</th>\n",
       "      <td>101.788066</td>\n",
       "      <td>8.749716</td>\n",
       "    </tr>\n",
       "    <tr>\n",
       "      <th>3</th>\n",
       "      <td>87.429020</td>\n",
       "      <td>9.112501</td>\n",
       "    </tr>\n",
       "    <tr>\n",
       "      <th>4</th>\n",
       "      <td>110.124700</td>\n",
       "      <td>10.393380</td>\n",
       "    </tr>\n",
       "    <tr>\n",
       "      <th>...</th>\n",
       "      <td>...</td>\n",
       "      <td>...</td>\n",
       "    </tr>\n",
       "    <tr>\n",
       "      <th>95</th>\n",
       "      <td>102.980580</td>\n",
       "      <td>9.666916</td>\n",
       "    </tr>\n",
       "    <tr>\n",
       "      <th>96</th>\n",
       "      <td>105.517369</td>\n",
       "      <td>8.909438</td>\n",
       "    </tr>\n",
       "    <tr>\n",
       "      <th>97</th>\n",
       "      <td>100.387693</td>\n",
       "      <td>8.253520</td>\n",
       "    </tr>\n",
       "    <tr>\n",
       "      <th>98</th>\n",
       "      <td>82.871637</td>\n",
       "      <td>8.207081</td>\n",
       "    </tr>\n",
       "    <tr>\n",
       "      <th>99</th>\n",
       "      <td>104.627001</td>\n",
       "      <td>11.196871</td>\n",
       "    </tr>\n",
       "  </tbody>\n",
       "</table>\n",
       "<p>100 rows × 2 columns</p>\n",
       "</div>"
      ],
      "text/plain": [
       "             A          B\n",
       "0   114.758796  10.790686\n",
       "1    99.050259   9.548888\n",
       "2   101.788066   8.749716\n",
       "3    87.429020   9.112501\n",
       "4   110.124700  10.393380\n",
       "..         ...        ...\n",
       "95  102.980580   9.666916\n",
       "96  105.517369   8.909438\n",
       "97  100.387693   8.253520\n",
       "98   82.871637   8.207081\n",
       "99  104.627001  11.196871\n",
       "\n",
       "[100 rows x 2 columns]"
      ]
     },
     "metadata": {},
     "output_type": "display_data"
    },
    {
     "data": {
      "image/png": "[encoded data removed]",
      "text/plain": [
       "<Figure size 640x480 with 1 Axes>"
      ]
     },
     "metadata": {},
     "output_type": "display_data"
    }
   ],
   "source": [
    "run data_analysis.py"
   ]
  }
 ],
 "metadata": {
  "kernelspec": {
   "display_name": "Python 3 (ipykernel)",
   "language": "python",
   "name": "python3"
  },
  "language_info": {
   "codemirror_mode": {
    "name": "ipython",
    "version": 3
   },
   "file_extension": ".py",
   "mimetype": "text/x-python",
   "name": "python",
   "nbconvert_exporter": "python",
   "pygments_lexer": "ipython3",
   "version": "3.11.1"
  }
 },
 "nbformat": 4,
 "nbformat_minor": 5
}
